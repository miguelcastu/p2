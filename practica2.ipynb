{
  "nbformat": 4,
  "nbformat_minor": 0,
  "metadata": {
    "colab": {
      "provenance": [],
      "toc_visible": true,
      "include_colab_link": true
    },
    "kernelspec": {
      "name": "python3",
      "display_name": "Python 3"
    },
    "language_info": {
      "name": "python"
    }
  },
  "cells": [
    {
      "cell_type": "markdown",
      "metadata": {
        "id": "view-in-github",
        "colab_type": "text"
      },
      "source": [
        "<a href=\"https://colab.research.google.com/github/miguelcastu/p2/blob/master/practica2.ipynb\" target=\"_parent\"><img src=\"https://colab.research.google.com/assets/colab-badge.svg\" alt=\"Open In Colab\"/></a>"
      ]
    },
    {
      "cell_type": "markdown",
      "source": [
        "# GRUPO 23\n",
        "Practica 2\n",
        "\n",
        "Álvaro Ávila Mangas\n",
        "\n",
        "Rafael Vicente Constasti"
      ],
      "metadata": {
        "id": "w91zHoOKPawM"
      }
    },
    {
      "cell_type": "markdown",
      "source": [
        "# Lectura de datos"
      ],
      "metadata": {
        "id": "RivQCpIbD-XK"
      }
    },
    {
      "cell_type": "code",
      "source": [
        "import  pickle\n",
        "\n",
        "#Se lee el fichero\n",
        "f=open('attrition_available_23.pkl','rb')\n",
        "datos = pickle.load(f)\n"
      ],
      "metadata": {
        "id": "1CjEB_dGEZDA"
      },
      "execution_count": 25,
      "outputs": []
    },
    {
      "cell_type": "markdown",
      "source": [
        "# EDA"
      ],
      "metadata": {
        "id": "hk35lcf_E0zT"
      }
    },
    {
      "cell_type": "markdown",
      "source": [
        "Importamos las librerias necesarias"
      ],
      "metadata": {
        "id": "kzmKQCVbF8Bk"
      }
    },
    {
      "cell_type": "code",
      "source": [
        "import pandas as pd\n",
        "import numpy as np\n",
        "import seaborn as sns\n",
        "import matplotlib.pyplot as plt"
      ],
      "metadata": {
        "id": "RU8lgrsNE2h8"
      },
      "execution_count": 49,
      "outputs": []
    },
    {
      "cell_type": "markdown",
      "source": [
        "<h1>EDA OPCIONAL (no en el enunciado)</h1>"
      ],
      "metadata": {
        "id": "fL_GBtrhTpo6"
      }
    },
    {
      "cell_type": "markdown",
      "source": [
        "Antes de proceder al EDA realizaremos algunas tecnicas de EDA no mencionadas en el enunciado, de cara al preproceso de los datos"
      ],
      "metadata": {
        "id": "xhEHK_pGhFB3"
      }
    },
    {
      "cell_type": "markdown",
      "source": [
        "\n",
        "\n",
        "> Calculo de valores atipicos\n",
        "\n"
      ],
      "metadata": {
        "id": "bFC9piDLTw0y"
      }
    },
    {
      "cell_type": "markdown",
      "source": [
        "Columnas a estudiar:\n",
        "*   Age\n",
        "*   MonthlyIncome\n",
        "*   DistanceFromHome\n",
        "*   Education\n",
        "*   JobLevel\n",
        "*   TotalWorkingYears\n",
        "*   YearsAtCompany\n",
        "*   YearsWithCurrManager"
      ],
      "metadata": {
        "id": "hoYEzJNkT-c8"
      }
    },
    {
      "cell_type": "markdown",
      "source": [
        "Hemos elegido estas columnas porque son algunas de las variables que podrían tener un impacto importante en la retención de los empleados en una empresa.\n",
        "\n",
        "Por ejemplo, la edad de los empleados podría estar relacionada con su intención de permanecer en la empresa a largo plazo, ya que los empleados mayores pueden tener menos probabilidades de buscar nuevas oportunidades de trabajo. El salario mensual, la satisfacción laboral y el equilibrio entre trabajo y vida personal también podrían ser factores importantes en la retención de empleados, ya que los empleados que se sienten bien compensados y satisfechos con su trabajo podrían estar menos inclinados a buscar oportunidades laborales en otros lugares.\n",
        "\n",
        "Las variables relacionadas con la educación y el nivel de experiencia laboral también podrían tener un impacto importante en la retención de empleados, ya que los empleados que han invertido tiempo y recursos en su educación y formación podrían estar más comprometidos con su carrera y menos dispuestos a dejar su trabajo actual.\n",
        "\n",
        "En general, la elección de las variables depende del contexto específico y de los objetivos del análisis. Es importante tener en cuenta que otras variables también podrían ser importantes para tu análisis en función del contexto específico de la empresa y de los empleados."
      ],
      "metadata": {
        "id": "DA84dIUiiT2l"
      }
    },
    {
      "cell_type": "code",
      "source": [
        "descripcion = datos.describe()\n",
        "\n",
        "# Calculo del rango intercuartílico (IQR)\n",
        "q1 = descripcion.loc['25%']\n",
        "q3 = descripcion.loc['75%']\n",
        "iqr = q3 - q1\n",
        "\n",
        "# Límites inferior y superior para detectar valores atípicos\n",
        "lim_inf = q1 - 1.5 * iqr\n",
        "lim_sup = q3 + 1.5 * iqr\n",
        "\n",
        "# Filtro de los valores atípicos para cada columna\n",
        "valores_atipicos = ((datos < lim_inf) | (datos > lim_sup)).any(axis=1)\n",
        "\n",
        "# Para organizar los boxplot\n",
        "fig, axes = plt.subplots(nrows=4, ncols=1, figsize=(20, 20))\n",
        "\n",
        "# Boxplot\n",
        "sns.boxplot(x='Age', y='MonthlyIncome', data=datos[valores_atipicos],  ax=axes[0])\n",
        "sns.boxplot(x='Education', y='JobLevel', data=datos[valores_atipicos], ax=axes[1])\n",
        "sns.boxplot(x='DistanceFromHome', y='TotalWorkingYears', data=datos[valores_atipicos],  ax=axes[2])\n",
        "sns.boxplot(x='YearsAtCompany', y='YearsWithCurrManager', data=datos[valores_atipicos], ax=axes[3])\n",
        "\n",
        "plt.show()\n"
      ],
      "metadata": {
        "id": "kQTc7dN5hQGr",
        "outputId": "61c972c6-7ad5-4f0a-ad15-1edfc225e4ee",
        "colab": {
          "base_uri": "https://localhost:8080/",
          "height": 1000
        }
      },
      "execution_count": 50,
      "outputs": [
        {
          "output_type": "stream",
          "name": "stderr",
          "text": [
            "<ipython-input-50-6a47a7db0d5b>:13: FutureWarning: Automatic reindexing on DataFrame vs Series comparisons is deprecated and will raise ValueError in a future version. Do `left, right = left.align(right, axis=1, copy=False)` before e.g. `left == right`\n",
            "  valores_atipicos = ((datos < lim_inf) | (datos > lim_sup)).any(axis=1)\n"
          ]
        },
        {
          "output_type": "display_data",
          "data": {
            "text/plain": [
              "<Figure size 2000x2000 with 4 Axes>"
            ],
            "image/png": "[encoded data removed]"
          },
          "metadata": {}
        }
      ]
    },
    {
      "cell_type": "markdown",
      "source": [
        "Como hemos podido observar hay bastantes valores atipicos."
      ],
      "metadata": {
        "id": "YHptlVCtf329"
      }
    },
    {
      "cell_type": "markdown",
      "source": [
        "<h1>EDA (del enunciado)</h1>"
      ],
      "metadata": {
        "id": "oqQFnfdMUsUL"
      }
    },
    {
      "cell_type": "markdown",
      "source": [
        "\n",
        "> Obtener el número de instancias y atributos"
      ],
      "metadata": {
        "id": "ZQ5im_4cGAuX"
      }
    },
    {
      "cell_type": "code",
      "source": [
        "n_instancias = datos.shape[0]\n",
        "n_atributos = datos.shape[1]\n",
        "\n",
        "print(f\"El conjunto de datos tiene {n_instancias} instancias y {n_atributos} atributos\")\n"
      ],
      "metadata": {
        "colab": {
          "base_uri": "https://localhost:8080/"
        },
        "id": "vRtdKbYEF7S9",
        "outputId": "8bd32726-cb80-4604-c3a6-d4e959f676de"
      },
      "execution_count": 51,
      "outputs": [
        {
          "output_type": "stream",
          "name": "stdout",
          "text": [
            "El conjunto de datos tiene 4410 instancias y 31 atributos\n"
          ]
        }
      ]
    },
    {
      "cell_type": "markdown",
      "source": [
        "\n",
        "> Tipo de atributos\n",
        "\n"
      ],
      "metadata": {
        "id": "YBel564MGZb4"
      }
    },
    {
      "cell_type": "code",
      "source": [
        "tipos_atributos = datos.dtypes\n",
        "\n",
        "print(\"Los tipos de los atributos son:\\n\")\n",
        "print(tipos_atributos)"
      ],
      "metadata": {
        "colab": {
          "base_uri": "https://localhost:8080/"
        },
        "id": "Pnq-i7cMGVvn",
        "outputId": "8d54fd9d-fc58-4121-dea3-ddca9aafa189"
      },
      "execution_count": 52,
      "outputs": [
        {
          "output_type": "stream",
          "name": "stdout",
          "text": [
            "Los tipos de los atributos son:\n",
            "\n",
            "hrs                        float64\n",
            "absences                   float64\n",
            "JobInvolvement             float64\n",
            "PerformanceRating          float64\n",
            "EnvironmentSatisfaction    float64\n",
            "JobSatisfaction            float64\n",
            "WorkLifeBalance            float64\n",
            "Age                        float64\n",
            "Attrition                   object\n",
            "BusinessTravel              object\n",
            "Department                  object\n",
            "DistanceFromHome           float64\n",
            "Education                  float64\n",
            "EducationField              object\n",
            "EmployeeCount              float64\n",
            "EmployeeID                 float64\n",
            "Gender                      object\n",
            "JobLevel                   float64\n",
            "JobRole                     object\n",
            "MaritalStatus               object\n",
            "MonthlyIncome              float64\n",
            "NumCompaniesWorked         float64\n",
            "Over18                      object\n",
            "PercentSalaryHike          float64\n",
            "StandardHours              float64\n",
            "StockOptionLevel           float64\n",
            "TotalWorkingYears          float64\n",
            "TrainingTimesLastYear      float64\n",
            "YearsAtCompany             float64\n",
            "YearsSinceLastPromotion    float64\n",
            "YearsWithCurrManager       float64\n",
            "dtype: object\n"
          ]
        }
      ]
    },
    {
      "cell_type": "markdown",
      "source": [
        "\n",
        "> Columnas constantes o innecesarias\n",
        "\n"
      ],
      "metadata": {
        "id": "HSFlsNKcGkm7"
      }
    },
    {
      "cell_type": "code",
      "source": [
        "# Columnas constantes serian las que tienen el mismo valor o tienen un valor y NaN\n",
        "columnas_constantes = [col for col in datos.columns if datos[col].nunique() == 1]\n",
        "\n",
        "# Columnas innecesarias\n",
        "columnas_innecesarias = [col for col in datos.columns if datos[col].isnull().sum() > 0.2*n_instancias]\n",
        "\n",
        "print(\"Las columnas constantes son:\\n\")\n",
        "print(columnas_constantes)\n",
        "\n",
        "#Valores faltantes = NaN\n",
        "print(\"\\nLas columnas con más del 20% de valores faltantes son:\\n\")\n",
        "print(columnas_innecesarias)"
      ],
      "metadata": {
        "colab": {
          "base_uri": "https://localhost:8080/"
        },
        "id": "Idy2KC81Go6g",
        "outputId": "60f95cae-6fc8-4009-b37d-403871b0b5d3"
      },
      "execution_count": 53,
      "outputs": [
        {
          "output_type": "stream",
          "name": "stdout",
          "text": [
            "Las columnas constantes son:\n",
            "\n",
            "['EmployeeCount', 'Over18', 'StandardHours']\n",
            "\n",
            "Las columnas con más del 20% de valores faltantes son:\n",
            "\n",
            "['hrs', 'absences', 'JobInvolvement', 'Age', 'DistanceFromHome', 'EmployeeID', 'StockOptionLevel', 'TotalWorkingYears', 'YearsSinceLastPromotion']\n"
          ]
        }
      ]
    },
    {
      "cell_type": "markdown",
      "source": [
        "\n",
        "> Proporción de missing values por atributo\n",
        "\n"
      ],
      "metadata": {
        "id": "FQR00c1mG_5S"
      }
    },
    {
      "cell_type": "code",
      "source": [
        "prop_missing = datos.isnull().sum() / n_instancias\n",
        "\n",
        "print(\"La proporción de valores faltantes por atributo es: \\n\")\n",
        "print(prop_missing)"
      ],
      "metadata": {
        "colab": {
          "base_uri": "https://localhost:8080/"
        },
        "id": "28b1sNnMHDp7",
        "outputId": "c8093592-82db-4ebf-ba9a-0068d68c59f2"
      },
      "execution_count": 54,
      "outputs": [
        {
          "output_type": "stream",
          "name": "stdout",
          "text": [
            "La proporción de valores faltantes por atributo es: \n",
            "\n",
            "hrs                        0.214286\n",
            "absences                   0.208390\n",
            "JobInvolvement             0.203401\n",
            "PerformanceRating          0.173696\n",
            "EnvironmentSatisfaction    0.173243\n",
            "JobSatisfaction            0.185034\n",
            "WorkLifeBalance            0.008617\n",
            "Age                        0.218594\n",
            "Attrition                  0.000000\n",
            "BusinessTravel             0.000000\n",
            "Department                 0.160998\n",
            "DistanceFromHome           0.210658\n",
            "Education                  0.161678\n",
            "EducationField             0.198639\n",
            "EmployeeCount              0.196825\n",
            "EmployeeID                 0.216780\n",
            "Gender                     0.168934\n",
            "JobLevel                   0.174830\n",
            "JobRole                    0.182993\n",
            "MaritalStatus              0.000000\n",
            "MonthlyIncome              0.196825\n",
            "NumCompaniesWorked         0.170748\n",
            "Over18                     0.161678\n",
            "PercentSalaryHike          0.170748\n",
            "StandardHours              0.192517\n",
            "StockOptionLevel           0.218141\n",
            "TotalWorkingYears          0.200680\n",
            "TrainingTimesLastYear      0.165306\n",
            "YearsAtCompany             0.198639\n",
            "YearsSinceLastPromotion    0.204082\n",
            "YearsWithCurrManager       0.193197\n",
            "dtype: float64\n"
          ]
        }
      ]
    },
    {
      "cell_type": "markdown",
      "source": [
        "\n",
        "> El problema es de clasificacion (columna Attrition)\n",
        "\n",
        "\n"
      ],
      "metadata": {
        "id": "CNQhlmV5YBf7"
      }
    },
    {
      "cell_type": "markdown",
      "source": [
        "\n",
        "> ¿Es desbalanceado?\n",
        "\n",
        "\n"
      ],
      "metadata": {
        "id": "sxKkca7rHVjL"
      }
    },
    {
      "cell_type": "code",
      "source": [
        "# Numero de instancias Yes y No\n",
        "counts = datos['Attrition'].value_counts()\n",
        "\n",
        "# Para que sea mas visual\n",
        "num_instancias_yes = counts[0]\n",
        "num_instancias_no = counts[1]\n",
        "\n",
        "# Visualizar el desbalanceo\n",
        "plt.bar(counts.index, counts.values)\n",
        "plt.show()\n",
        "\n",
        "# Proporcion de Yes y No\n",
        "target_prop_yes = num_instancias_yes / n_instancias\n",
        "target_prop_no = num_instancias_no / n_instancias\n",
        "\n",
        "print(f\"La proporcion de instancias en la columna 'Attrition' que es 'Yes' es: {target_prop_yes}\")\n",
        "print(f\"La proporcion de instancias en la columna 'Attrition' que es 'No' es: {target_prop_no}\")"
      ],
      "metadata": {
        "colab": {
          "base_uri": "https://localhost:8080/",
          "height": 464
        },
        "id": "2STlPkA7On5E",
        "outputId": "a5a431ff-3679-4f30-eec6-e015a4a29fbd"
      },
      "execution_count": 55,
      "outputs": [
        {
          "output_type": "display_data",
          "data": {
            "text/plain": [
              "<Figure size 640x480 with 1 Axes>"
            ],
            "image/png": "[encoded data removed]"
          },
          "metadata": {}
        },
        {
          "output_type": "stream",
          "name": "stdout",
          "text": [
            "La proporcion de instancias en la columna 'Attrition' que es 'Yes' es: 0.8387755102040816\n",
            "La proporcion de instancias en la columna 'Attrition' que es 'No' es: 0.16122448979591836\n"
          ]
        }
      ]
    },
    {
      "cell_type": "markdown",
      "source": [
        "Por lo que confirmamos que es desbalanceado"
      ],
      "metadata": {
        "id": "7SMs-kPRW2wB"
      }
    },
    {
      "cell_type": "markdown",
      "source": [
        "# Evaluacion del conjuto de datos"
      ],
      "metadata": {
        "id": "_qu6LkHdHrSY"
      }
    },
    {
      "cell_type": "markdown",
      "source": [
        "Division de los datos\n",
        "\n",
        "X->Datos quitando columna solucion\n",
        "\n",
        "y->Columna solucion\n",
        "\n"
      ],
      "metadata": {
        "id": "6_cv3I5cIbj3"
      }
    },
    {
      "cell_type": "code",
      "source": [
        "X = datos.drop('Attrition', axis=1)\n",
        "y = datos['Attrition']"
      ],
      "metadata": {
        "id": "Zvi1zXwjIdKO"
      },
      "execution_count": 56,
      "outputs": []
    },
    {
      "cell_type": "markdown",
      "source": [
        "Train->Entrenar y ajustar hiperparametros\n",
        "\n",
        "Test->Evaluar distintas posibilidades"
      ],
      "metadata": {
        "id": "R1Dn4-5i4RMz"
      }
    },
    {
      "cell_type": "markdown",
      "source": [
        "\n",
        "> Primero hacemos una division no estratificada para comparar (aunque nos quedaremos con el estratificada esto es solo para comparar)\n",
        "\n",
        "\n"
      ],
      "metadata": {
        "id": "hz_G2CuVX6DS"
      }
    },
    {
      "cell_type": "code",
      "source": [
        "from sklearn.model_selection import train_test_split\n",
        "\n",
        "X_train, X_test, y_train, y_test = train_test_split(X, y, test_size = 0.2, random_state=42)\n",
        "\n",
        "# Comprobemos ahora la distribución de las clases.\n",
        "n_pos_pct = num_instancias_yes / (num_instancias_yes + num_instancias_no)\n",
        "\n",
        "instancias_positivas_train = (y_train == \"Yes\").sum()\n",
        "instancias_positivas_test = (y_test == \"Yes\").sum()\n",
        "\n",
        "n_pos_train_pct = instancias_positivas_train / len(y_train)\n",
        "n_pos_test_pct = instancias_positivas_test / len(y_test)\n",
        "\n",
        "print(f\"Hay un {100 * n_pos_train_pct:.1f} % de instancias positivas en train.\")\n",
        "print(f\"Hay un {100 * n_pos_test_pct:.1f} % de instancias positivas en test.\")\n",
        "print(f\"Hay un {100 * n_pos_pct:.1f} % de instancias positivas en total.\\n\")\n",
        "\n",
        "\n",
        "\n"
      ],
      "metadata": {
        "id": "VYA-iyHJ3EbY",
        "outputId": "7b511ff2-c2e5-40fa-d8b4-7aca327fe85c",
        "colab": {
          "base_uri": "https://localhost:8080/"
        }
      },
      "execution_count": 61,
      "outputs": [
        {
          "output_type": "stream",
          "name": "stdout",
          "text": [
            "Hay un 15.8 % de instancias positivas en train.\n",
            "Hay un 17.3 % de instancias positivas en test.\n",
            "Hay un 83.9 % de instancias positivas en total.\n",
            "\n"
          ]
        }
      ]
    },
    {
      "cell_type": "markdown",
      "source": [
        "\n",
        "\n",
        "> Ahora realizaremos una división estratificada y con random_state=42, para que sea reproducible\n",
        "\n",
        "\n"
      ],
      "metadata": {
        "id": "z1oxjw-hYEdg"
      }
    },
    {
      "cell_type": "code",
      "source": [
        "X_train, X_test, y_train, y_test = train_test_split(X, y, test_size = 0.2, stratify=y, random_state=42)\n",
        "\n",
        "# Comprobemos ahora la distribución de las clases.\n",
        "n_pos_pct = num_instancias_yes / (num_instancias_yes + num_instancias_no)\n",
        "\n",
        "instancias_positivas_train = (y_train == \"Yes\").sum()\n",
        "instancias_positivas_test = (y_test == \"Yes\").sum()\n",
        "\n",
        "n_pos_train_pct = instancias_positivas_train / len(y_train)\n",
        "n_pos_test_pct = instancias_positivas_test / len(y_test)\n",
        "\n",
        "print(f\"Hay un {100 * n_pos_train_pct:.1f} % de instancias positivas en train.\")\n",
        "print(f\"Hay un {100 * n_pos_test_pct:.1f} % de instancias positivas en test.\")\n",
        "print(f\"Hay un {100 * n_pos_pct:.1f} % de instancias positivas en total.\")"
      ],
      "metadata": {
        "id": "dOFp4KSkYDep",
        "outputId": "42437c1e-10c8-43bd-c73f-266a8db1013b",
        "colab": {
          "base_uri": "https://localhost:8080/"
        }
      },
      "execution_count": 62,
      "outputs": [
        {
          "output_type": "stream",
          "name": "stdout",
          "text": [
            "Hay un 16.1 % de instancias positivas en train.\n",
            "Hay un 16.1 % de instancias positivas en test.\n",
            "Hay un 83.9 % de instancias positivas en total.\n"
          ]
        }
      ]
    },
    {
      "cell_type": "markdown",
      "source": [
        "\n",
        "> Preproceso:\n"
      ],
      "metadata": {
        "id": "nhwkGnl3_Hjd"
      }
    },
    {
      "cell_type": "markdown",
      "source": [
        "Distiguir atributos categoricos y numericos en la matriz X\n"
      ],
      "metadata": {
        "id": "OjS4tuy5GYGA"
      }
    },
    {
      "cell_type": "code",
      "source": [
        "from sklearn.compose import ColumnTransformer\n",
        "from sklearn.impute import SimpleImputer\n",
        "from sklearn.pipeline import Pipeline\n",
        "from sklearn.preprocessing import OneHotEncoder\n",
        "\n",
        "# Usamos el X_train y X_test de la division estratificada\n",
        "\n",
        "# Seleccionar las columnas numericas, para luego saber que tipo de procesado se tiene que hacer\n",
        "X_num = X.select_dtypes(include=['float64'])\n",
        "\n",
        "# Seleccionar las columnas categóricas, para luego saber que tipo de procesado se tiene que hacer\n",
        "X_cat = X.select_dtypes(include=['object'])\n",
        "\n",
        "\n",
        "# Procesamiento de valores numéricos.\n",
        "# Preprocesado de valores Nan y missing values\n",
        "imputer_num = SimpleImputer(strategy='mean')\n",
        "pipeline_num = Pipeline(\n",
        "    steps=[\n",
        "        (\"imputer\", imputer_num)\n",
        "    ]\n",
        ")\n",
        "\n",
        "\n",
        "# Procesamiento de valores categóricos.\n",
        "# Preprocesado de valores Nan y missing values\n",
        "imputer_cat = SimpleImputer(strategy='most_frequent')\n",
        "# Preprocesado de valores categoricos\n",
        "encoder = OneHotEncoder(handle_unknown='ignore')\n",
        "pipeline_cat = Pipeline(\n",
        "    steps=[\n",
        "        (\"imputer\", imputer_cat),\n",
        "        (\"encoder\", encoder)\n",
        "    ]\n",
        ")\n",
        "\n",
        "\n",
        "# Pre-procesador \"global\".\n",
        "# Dependiendo del tipo de columna se aplica una transformación u otra.\n",
        "processor = ColumnTransformer(\n",
        "    transformers=[\n",
        "        (\"num\", pipeline_num, X_num.columns),\n",
        "        (\"cat\", pipeline_cat, X_cat.columns),\n",
        "    ]\n",
        ")\n",
        "\n",
        "# Realizamos la transformación, a partir de ahora (usar X_train_processed y X_test_processed\n",
        "X_train_processed = processor.fit_transform(X_train)\n",
        "X_test_processed = processor.fit_transform(X_test)\n"
      ],
      "metadata": {
        "id": "3lBRAdN4_SaO"
      },
      "execution_count": 63,
      "outputs": []
    },
    {
      "cell_type": "markdown",
      "source": [
        "# Modelos"
      ],
      "metadata": {
        "id": "cU7y9aGDY3Q3"
      }
    },
    {
      "cell_type": "markdown",
      "source": [
        "\n",
        "\n",
        "> Metodo base\n",
        "\n"
      ],
      "metadata": {
        "id": "Z23zh1ZxZXnM"
      }
    },
    {
      "cell_type": "code",
      "source": [
        "from sklearn.ensemble import AdaBoostClassifier\n",
        "from sklearn.metrics import confusion_matrix, balanced_accuracy_score, f1_score\n",
        "from sklearn.preprocessing import StandardScaler\n",
        "from sklearn.linear_model import LogisticRegression\n",
        "from sklearn.ensemble import GradientBoostingClassifier\n",
        "from sklearn.model_selection import GridSearchCV"
      ],
      "metadata": {
        "id": "ZIAlT4-ebrWC"
      },
      "execution_count": 68,
      "outputs": []
    },
    {
      "cell_type": "code",
      "source": [
        "# Escalamos los datos y procedemos al LogisticRegression\n",
        "# Hemos considerado no meter el preproceso anterior y el escalado en el mismo Pipeline\n",
        "# Pero consideramos mas sencillo asi\n",
        "metodo_base = Pipeline(\n",
        "    steps=[\n",
        "        ('scaler', StandardScaler()),\n",
        "        ('lr', LogisticRegression(random_state=42, class_weight=\"balanced\"))\n",
        "    ]\n",
        ")\n",
        "\n",
        "# Entrenar el modelo base\n",
        "metodo_base.fit(X_train_processed, y_train)\n",
        "\n",
        "# Evaluar el modelo base\n",
        "y_pred_metodo_base = metodo_base.predict(X_test_processed)\n",
        "\n",
        "print(\"Logistic Regression:\")\n",
        "print(\"Matriz de confusion:\\n\", confusion_matrix(y_test, y_pred_metodo_base))\n",
        "print(\"balanced accuracy:\", balanced_accuracy_score(y_test, y_pred_metodo_base))\n",
        "print(\"f1-score:\", f1_score(y_test, y_pred_metodo_base, pos_label=\"Yes\"))\n",
        "\n"
      ],
      "metadata": {
        "id": "4HXqBXS2jGel",
        "outputId": "3cf707e5-cd4e-4934-a7c6-e85b1da23610",
        "colab": {
          "base_uri": "https://localhost:8080/"
        }
      },
      "execution_count": 69,
      "outputs": [
        {
          "output_type": "stream",
          "name": "stdout",
          "text": [
            "Logistic Regression:\n",
            "Matriz de confusion:\n",
            " [[544 196]\n",
            " [ 42 100]]\n",
            "balanced accuracy: 0.7196802436239056\n",
            "f1-score: 0.4566210045662101\n"
          ]
        }
      ]
    },
    {
      "cell_type": "markdown",
      "source": [
        "\n",
        "\n",
        "> Metodo avanzado\n",
        "\n"
      ],
      "metadata": {
        "id": "s7lDA1rUZo55"
      }
    },
    {
      "cell_type": "markdown",
      "source": [
        "Existen varios métodos de boosting disponibles en scikit-learn, como:\n",
        "*   AdaBoost \n",
        "*   Gradient Boosting\n",
        "*   XGBoost\n",
        "*   LightGBM\n",
        "*   CatBoost\n",
        "\n",
        "Cada uno tiene sus propias ventajas y desventajas. Y todos tratan el desbalanceo. Por lo que por descartes nos decantaremos por estudira dos modelos (AdaBoostClassifier y GradientBoostingClassifier) que cuentan con parámetro class_weight = \"balanced\".\n",
        "\n",
        "No obstente usaremos LightGBM como adicional\n"
      ],
      "metadata": {
        "id": "hjd4A4Rt7H40"
      }
    },
    {
      "cell_type": "markdown",
      "source": [
        "\n",
        "\n",
        "> Primero estudiaremos el GradientBoostingClassifier\n",
        "\n"
      ],
      "metadata": {
        "id": "MW0BZLag8Rru"
      }
    },
    {
      "cell_type": "code",
      "source": [
        "# Escalamos los datos y procedemos al GradientBoostingClassifier\n",
        "metodo_avanzado = Pipeline(\n",
        "    steps=[\n",
        "        ('scaler', StandardScaler()), \n",
        "        ('gb', GradientBoostingClassifier(random_state=42))\n",
        "    ]\n",
        ")\n",
        "\n",
        "# Elegimos los mejores hiperparametros Y ajustamos el metodo con esos hiperparámetros \n",
        "param_grid = {'gb__n_estimators': [600, 700, 800], 'gb__learning_rate': [0.1, 1, 10], 'gb__random_state': [42]}\n",
        "grid_search = GridSearchCV(metodo_avanzado, param_grid, cv=5)\n",
        "grid_search.fit(X_train_processed, y_train)\n",
        "\n",
        "# Como informacion de cuales son los mejores hiperparametros\n",
        "print(\"Mejores hiperparámetros encontrados:\", grid_search.best_params_)\n",
        "\n",
        "y_pred_metodo_avanzado = grid_search.predict(X_test_processed)\n",
        "\n",
        "print(\"\\nGradient Boosting:\")\n",
        "print(\"Matriz de confusion:\\n\", confusion_matrix(y_test, y_pred_metodo_avanzado))\n",
        "print(\"balanced accuracy:\", balanced_accuracy_score(y_test, y_pred_metodo_avanzado))\n",
        "print(\"f1-score:\", f1_score(y_test, y_pred_metodo_avanzado, pos_label=\"Yes\"))\n",
        "\n",
        "\n"
      ],
      "metadata": {
        "id": "ZGwyiIC4oKbD",
        "outputId": "3950787e-f9eb-4c00-b90e-70d250862d4d",
        "colab": {
          "base_uri": "https://localhost:8080/"
        }
      },
      "execution_count": 70,
      "outputs": [
        {
          "output_type": "stream",
          "name": "stdout",
          "text": [
            "Mejores hiperparámetros encontrados: {'gb__learning_rate': 1, 'gb__n_estimators': 700, 'gb__random_state': 42}\n",
            "\n",
            "Gradient Boosting:\n",
            "Matriz de confusion:\n",
            " [[727  13]\n",
            " [ 55  87]]\n",
            "balanced accuracy: 0.7975542443852303\n",
            "f1-score: 0.7190082644628099\n"
          ]
        }
      ]
    },
    {
      "cell_type": "code",
      "source": [
        "# Escalamos los datos y procedemos al AdaBoostClassifier\n",
        "metodo_avanzado = Pipeline(\n",
        "    steps=[\n",
        "        ('scaler', StandardScaler()), \n",
        "        ('ada', AdaBoostClassifier(random_state=42))\n",
        "    ]\n",
        ")\n",
        "\n",
        "# Elegimos los mejores hiperparametros Y ajustamos el metodo con esos hiperparámetros \n",
        "param_grid = {'ada__n_estimators': [150, 200, 250], 'ada__learning_rate': [0.1, 1.0, 10,], 'ada__algorithm': ['SAMME', 'SAMME.R'], 'ada__random_state': [42]}\n",
        "grid_search = GridSearchCV(metodo_avanzado, param_grid, cv=5)\n",
        "grid_search.fit(X_train_processed, y_train)\n",
        "\n",
        "print(\"Mejores hiperparámetros encontrados:\", grid_search.best_params_)\n",
        "\n",
        "y_pred_metodo_avanzado = grid_search.predict(X_test_processed)\n",
        "\n",
        "print(\"\\nAdaBoost:\")\n",
        "print(\"Matriz de confusion:\\n\", confusion_matrix(y_test, y_pred_metodo_avanzado))\n",
        "print(\"balanced accuracy:\", balanced_accuracy_score(y_test, y_pred_metodo_avanzado))\n",
        "print(\"f1-score:\", f1_score(y_test, y_pred_metodo_avanzado, pos_label=\"Yes\"))"
      ],
      "metadata": {
        "id": "6Wo9efwD8xtt",
        "outputId": "2496e020-9961-4952-b2a7-072abe8dc83d",
        "colab": {
          "base_uri": "https://localhost:8080/"
        }
      },
      "execution_count": 71,
      "outputs": [
        {
          "output_type": "stream",
          "name": "stdout",
          "text": [
            "Mejores hiperparámetros encontrados: {'ada__algorithm': 'SAMME', 'ada__learning_rate': 1.0, 'ada__n_estimators': 200, 'ada__random_state': 42}\n",
            "\n",
            "AdaBoost:\n",
            "Matriz de confusion:\n",
            " [[724  16]\n",
            " [110  32]]\n",
            "balanced accuracy: 0.6018652455272173\n",
            "f1-score: 0.3368421052631579\n"
          ]
        }
      ]
    },
    {
      "cell_type": "markdown",
      "source": [
        "Se han utilizado tres modelos de aprendizaje automático: Regresión Logística, Gradient Boosting y AdaBoost, de los cuales sacamos las siguientes conclusiones:\n",
        "\n",
        "En términos de rendimiento, Gradient Boosting ha logrado el mejor resultado con una precisión balanceada del 79,8%, lo que indica que puede predecir de manera efectiva tanto los empleados que permanecerán en la empresa como los que la abandonarán. Además, el valor del f1-score del modelo Gradient Boosting es de 0,719, que es el más alto de los tres modelos.\n",
        "\n",
        "La matriz de confusión también proporciona información útil sobre el rendimiento del modelo, donde se puede observar que en el caso de la Regresión Logística, el modelo identificó correctamente a 544 empleados que permanecerán en la empresa y 100 empleados que abandonarán la empresa. Sin embargo, el modelo también identificó erróneamente a 196 empleados que permanecerán en la empresa como empleados que la abandonarán.\n",
        "\n",
        "Por otro lado, tanto Gradient Boosting como AdaBoost tienen una tasa de falsos negativos más alta que la Regresión Logística, lo que significa que hay una mayor probabilidad de identificar incorrectamente a los empleados que abandonarán la empresa como empleados que permanecerán en la empresa.\n",
        "\n",
        "En conclusión, se puede afirmar que el modelo de Gradient Boosting es el que mejor rendimiento ha obtenido en la predicción de la tasa de abandono de empleados. Sin embargo, sería necesario realizar más análisis y ajustes para asegurarse de que el modelo sea confiable y efectivo en su uso a largo plazo."
      ],
      "metadata": {
        "id": "SvgX7rrUeyCX"
      }
    },
    {
      "cell_type": "markdown",
      "source": [
        "Como nos encontramos ante un conjunto de datos grande y disperso. Nos hemos decantado por usar LightGBM"
      ],
      "metadata": {
        "id": "7TRUD2lBgVzs"
      }
    },
    {
      "cell_type": "code",
      "source": [
        "import lightgbm as lgb\n",
        "\n",
        "# Escalamos los datos y procedemos al LGBMClassifier\n",
        "metodo_avanzado = Pipeline(\n",
        "    steps=[\n",
        "        ('scaler', StandardScaler()), \n",
        "        ('lgbm', lgb.LGBMClassifier(random_state=42, objective='binary'))\n",
        "    ]\n",
        ")\n",
        "\n",
        "# Elegimos los mejores hiperparametros Y ajustamos el metodo con esos hiperparámetros \n",
        "param_grid = {'lgbm__num_leaves': [127, 150, 160], \n",
        "              'lgbm__learning_rate': [0.01, 0.1, 1.0],\n",
        "              'lgbm__max_depth': [7, -1, -4], \n",
        "              'lgbm__min_child_samples': [1, 5, 10, 20, 30],\n",
        "              'lgbm__scale_pos_weight': [ 20, 25, 30],\n",
        "              'lgbm__random_state': [42]}\n",
        "\n",
        "grid_search = GridSearchCV(metodo_avanzado, param_grid, cv=5)\n",
        "grid_search.fit(X_train_processed, y_train)\n",
        "\n",
        "print(\"Mejores hiperparámetros encontrados:\", grid_search.best_params_)\n",
        "\n",
        "y_pred_metodo_avanzado = grid_search.predict(X_test_processed)\n",
        "\n",
        "print(\"\\nLightGBM:\")\n",
        "print(\"Matriz de confusion:\\n\", confusion_matrix(y_test, y_pred_metodo_avanzado))\n",
        "print(\"balanced accuracy:\", balanced_accuracy_score(y_test, y_pred_metodo_avanzado))\n",
        "print(\"f1-score:\", f1_score(y_test, y_pred_metodo_avanzado, pos_label=\"Yes\"))"
      ],
      "metadata": {
        "id": "hqjN8VQpgWHM",
        "outputId": "54385262-f4e8-45f4-fce6-cbc9332cb1c8",
        "colab": {
          "base_uri": "https://localhost:8080/"
        }
      },
      "execution_count": 74,
      "outputs": [
        {
          "output_type": "stream",
          "name": "stdout",
          "text": [
            "Mejores hiperparámetros encontrados: {'lgbm__learning_rate': 0.1, 'lgbm__max_depth': -1, 'lgbm__min_child_samples': 10, 'lgbm__num_leaves': 160, 'lgbm__random_state': 42, 'lgbm__scale_pos_weight': 25}\n",
            "\n",
            "LightGBM:\n",
            "Matriz de confusion:\n",
            " [[729  11]\n",
            " [ 48  94]]\n",
            "balanced accuracy: 0.8235534830605253\n",
            "f1-score: 0.7611336032388665\n"
          ]
        }
      ]
    },
    {
      "cell_type": "markdown",
      "source": [
        "En comparación con los resultados anteriores, se puede observar que LightGBM ha logrado un mejor rendimiento que todos los modelos anteriores, incluido Gradient Boosting. La precisión balanceada del modelo LightGBM es de 82,4%, el valor del f1-score del modelo es de 0,761, que es el más alto de todos los modelos anteriores.\n",
        "\n",
        "En la matriz de confusión se puede observar que el modelo identificó correctamente a 729 empleados que permanecerán en la empresa y 94 empleados que abandonarán la empresa, mientras que identificó erróneamente a 11 empleados que permanecerán en la empresa como empleados que la abandonarán.\n",
        "\n",
        "En general, los resultados sugieren que LightGBM es el mejor modelo para predecir el abandono de empleados en una empresa."
      ],
      "metadata": {
        "id": "yZIP6gFIl8eB"
      }
    },
    {
      "cell_type": "markdown",
      "source": [
        "# Selección de atributos"
      ],
      "metadata": {
        "id": "k43FzG6SSMZg"
      }
    },
    {
      "cell_type": "code",
      "source": [],
      "metadata": {
        "id": "Xcv3q0tIeFPO"
      },
      "execution_count": null,
      "outputs": []
    }
  ]
}